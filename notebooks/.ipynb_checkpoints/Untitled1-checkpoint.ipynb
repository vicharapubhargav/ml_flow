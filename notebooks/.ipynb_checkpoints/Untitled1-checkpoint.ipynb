{
 "cells": [
  {
   "cell_type": "code",
   "execution_count": 5,
   "id": "473ef90a-a54e-42e5-aeda-c667c8469c5b",
   "metadata": {},
   "outputs": [
    {
     "data": {
      "text/plain": [
       "'C:\\\\Users\\\\bharg\\\\Desktop\\\\Ml_Flow_Task\\\\notebooks'"
      ]
     },
     "execution_count": 5,
     "metadata": {},
     "output_type": "execute_result"
    }
   ],
   "source": [
    "pwd()"
   ]
  },
  {
   "cell_type": "code",
   "execution_count": 9,
   "id": "35e0d91d-7cc9-485e-996f-af0b9bc74843",
   "metadata": {},
   "outputs": [],
   "source": [
    "import os\n",
    "os.chdir('C:\\\\Users\\\\bharg\\\\Desktop\\\\Ml_Flow_Task')"
   ]
  },
  {
   "cell_type": "code",
   "execution_count": 10,
   "id": "fd5fed77-8801-4bf7-9908-c81bd7958b89",
   "metadata": {},
   "outputs": [
    {
     "data": {
      "text/plain": [
       "'C:\\\\Users\\\\bharg\\\\Desktop\\\\Ml_Flow_Task'"
      ]
     },
     "execution_count": 10,
     "metadata": {},
     "output_type": "execute_result"
    }
   ],
   "source": [
    "pwd()"
   ]
  },
  {
   "cell_type": "code",
   "execution_count": 13,
   "id": "5f4cc012-460c-4fe9-a433-dc96b1e7482f",
   "metadata": {},
   "outputs": [],
   "source": [
    "from src.get_data import read_params"
   ]
  },
  {
   "cell_type": "code",
   "execution_count": 15,
   "id": "aa5f7e1e-9e43-4493-ae32-fc5af8c877ea",
   "metadata": {},
   "outputs": [],
   "source": [
    "import argparse\n",
    "import mlflow\n",
    "from mlflow.tracking import MlflowClient\n",
    "from pprint import pprint\n",
    "import joblib\n",
    "import os\n",
    "import log_class"
   ]
  },
  {
   "cell_type": "code",
   "execution_count": 16,
   "id": "4bc9c6b1-9fd9-4369-a98a-0e40add795f7",
   "metadata": {},
   "outputs": [],
   "source": [
    "config = read_params('params.yaml')    \n",
    "mlflow_config = config[\"mlflow_config\"] \n",
    "model_name = mlflow_config[\"registered_model_name\"]"
   ]
  },
  {
   "cell_type": "code",
   "execution_count": 42,
   "id": "b264d64a-8f6e-49ad-9dff-176540c9ec55",
   "metadata": {},
   "outputs": [
    {
     "name": "stdout",
     "output_type": "stream",
     "text": [
      "0.8810295840523836\n",
      "67a32139982e462594c303680ac34128\n",
      "0be1576b43924f23a0ff80df4633e8ab\n",
      "49eec383a38b44e2bffa092f22667d69\n",
      "49eec383a38b44e2bffa092f22667d69\n",
      "0be1576b43924f23a0ff80df4633e8ab\n",
      "67a32139982e462594c303680ac34128\n"
     ]
    }
   ],
   "source": [
    "def log_production_model(config_path):\n",
    "    config = read_params(config_path)\n",
    "    \n",
    "    \n",
    "    mlflow_config = config[\"mlflow_config\"] \n",
    "    \n",
    "\n",
    "    model_name = mlflow_config[\"registered_model_name\"]\n",
    "\n",
    "\n",
    "    remote_server_uri = mlflow_config[\"remote_server_uri\"]\n",
    "\n",
    "    mlflow.set_tracking_uri(remote_server_uri)\n",
    "    \n",
    "    \n",
    "    runs = mlflow.search_runs(experiment_ids=1)\n",
    "    highest = max(runs[\"metrics.r2\"])\n",
    "    print(highest)\n",
    "    highest_run_id = runs[runs[\"metrics.r2\"] == highest][\"run_id\"]\n",
    "    for x in runs[\"run_id\"]:\n",
    "        print(x)\n",
    "    \n",
    "    client = MlflowClient()\n",
    "    for mv in client.search_model_versions(f\"name='{model_name}'\"):\n",
    "        mv = dict(mv)\n",
    "        print(mv[\"run_id\"])\n",
    "        if mv[\"run_id\"] == highest_run_id:\n",
    "#             current_version = mv[\"version\"]\n",
    "#             logged_model = mv[\"source\"]\n",
    "#             pprint(mv, indent=4)\n",
    "            \n",
    "           \n",
    "log_production_model('params.yaml')"
   ]
  },
  {
   "cell_type": "code",
   "execution_count": null,
   "id": "3b3c2957-2dac-4f95-ab9d-95b00b90a072",
   "metadata": {},
   "outputs": [],
   "source": []
  },
  {
   "cell_type": "code",
   "execution_count": null,
   "id": "bb6fc787-d6a4-4fbe-81db-cf36ed3dd76a",
   "metadata": {},
   "outputs": [],
   "source": []
  },
  {
   "cell_type": "code",
   "execution_count": null,
   "id": "c5c37529-f04f-4710-8846-b6fdeead1d79",
   "metadata": {},
   "outputs": [],
   "source": []
  },
  {
   "cell_type": "code",
   "execution_count": null,
   "id": "1c454b57-c1a4-4159-8753-ecef2d1a9059",
   "metadata": {},
   "outputs": [],
   "source": []
  }
 ],
 "metadata": {
  "kernelspec": {
   "display_name": "Python 3 (ipykernel)",
   "language": "python",
   "name": "python3"
  },
  "language_info": {
   "codemirror_mode": {
    "name": "ipython",
    "version": 3
   },
   "file_extension": ".py",
   "mimetype": "text/x-python",
   "name": "python",
   "nbconvert_exporter": "python",
   "pygments_lexer": "ipython3",
   "version": "3.7.11"
  }
 },
 "nbformat": 4,
 "nbformat_minor": 5
}
